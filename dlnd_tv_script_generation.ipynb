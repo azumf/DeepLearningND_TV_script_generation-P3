{
 "cells": [
  {
   "cell_type": "markdown",
   "metadata": {},
   "source": [
    "# TV Script Generation\n",
    "In this project, I will generate my own [Simpsons](https://en.wikipedia.org/wiki/The_Simpsons) TV scripts using RNNs.  I will use parts of the [Simpsons dataset](https://www.kaggle.com/wcukierski/the-simpsons-by-the-data) of scripts from 27 seasons.  The Neural Network I will build will generate a new TV script for a scene at [Moe's Tavern](https://simpsonswiki.com/wiki/Moe's_Tavern).\n",
    "## Get the Data\n",
    "I will be using a subset of the original dataset.  It consists of only the scenes in Moe's Tavern.  This doesn't include other versions of the tavern, like \"Moe's Cavern\", \"Flaming Moe's\", \"Uncle Moe's Family Feed-Bag\", etc.."
   ]
  },
  {
   "cell_type": "code",
   "execution_count": 1,
   "metadata": {
    "collapsed": true
   },
   "outputs": [],
   "source": [
    "import helper\n",
    "\n",
    "data_dir = './data/simpsons/moes_tavern_lines.txt'\n",
    "text = helper.load_data(data_dir)\n",
    "\n",
    "text = text[81:]"
   ]
  },
  {
   "cell_type": "markdown",
   "metadata": {},
   "source": [
    "## Data exploration"
   ]
  },
  {
   "cell_type": "code",
   "execution_count": 2,
   "metadata": {},
   "outputs": [
    {
     "name": "stdout",
     "output_type": "stream",
     "text": [
      "Dataset Stats\n",
      "Roughly the number of unique words: 11492\n",
      "Number of scenes: 262\n",
      "Average number of sentences in each scene: 15.251908396946565\n",
      "Number of lines: 4258\n",
      "Average number of words in each line: 11.50164396430249\n",
      "\n",
      "The sentences 0 to 10:\n",
      "\n",
      "Moe_Szyslak: (INTO PHONE) Moe's Tavern. Where the elite meet to drink.\n",
      "Bart_Simpson: Eh, yeah, hello, is Mike there? Last name, Rotch.\n",
      "Moe_Szyslak: (INTO PHONE) Hold on, I'll check. (TO BARFLIES) Mike Rotch. Mike Rotch. Hey, has anybody seen Mike Rotch, lately?\n",
      "Moe_Szyslak: (INTO PHONE) Listen you little puke. One of these days I'm gonna catch you, and I'm gonna carve my name on your back with an ice pick.\n",
      "Moe_Szyslak: What's the matter Homer? You're not your normal effervescent self.\n",
      "Homer_Simpson: I got my problems, Moe. Give me another one.\n",
      "Moe_Szyslak: Homer, hey, you should not drink to forget your problems.\n",
      "Barney_Gumble: Yeah, you should only drink to enhance your social skills.\n",
      "\n"
     ]
    }
   ],
   "source": [
    "view_sentence_range = (0, 10)\n",
    "\n",
    "import numpy as np\n",
    "\n",
    "print('Dataset Stats')\n",
    "print('Roughly the number of unique words: {}'.format(len({word: None for word in text.split()})))\n",
    "scenes = text.split('\\n\\n')\n",
    "print('Number of scenes: {}'.format(len(scenes)))\n",
    "sentence_count_scene = [scene.count('\\n') for scene in scenes]\n",
    "print('Average number of sentences in each scene: {}'.format(np.average(sentence_count_scene)))\n",
    "\n",
    "sentences = [sentence for scene in scenes for sentence in scene.split('\\n')]\n",
    "print('Number of lines: {}'.format(len(sentences)))\n",
    "word_count_sentence = [len(sentence.split()) for sentence in sentences]\n",
    "print('Average number of words in each line: {}'.format(np.average(word_count_sentence)))\n",
    "\n",
    "print()\n",
    "print('The sentences {} to {}:'.format(*view_sentence_range))\n",
    "print('\\n'.join(text.split('\\n')[view_sentence_range[0]:view_sentence_range[1]]))"
   ]
  },
  {
   "cell_type": "markdown",
   "metadata": {},
   "source": [
    "## Implement Preprocessing Functions\n",
    "\n",
    "- Lookup Table\n",
    "- Tokenize Punctuation\n",
    "\n",
    "### Lookup Table\n",
    "Transform the words to ids.  In this function, two dictionaries are created:\n",
    "- Dictionary to go from the words to an id, we'll call `vocab_to_int`\n",
    "- Dictionary to go from the id to word, we'll call `int_to_vocab`"
   ]
  },
  {
   "cell_type": "code",
   "execution_count": 3,
   "metadata": {},
   "outputs": [
    {
     "name": "stdout",
     "output_type": "stream",
     "text": [
      "Tests Passed\n"
     ]
    }
   ],
   "source": [
    "import numpy as np\n",
    "import problem_unittests as tests\n",
    "\n",
    "def create_lookup_tables(text):\n",
    "\n",
    "    # Lookup table\n",
    "    vocab = set(text)\n",
    "    vocab_to_int = {c: i for i, c in enumerate(vocab)}\n",
    "    int_to_vocab = dict(enumerate(vocab))\n",
    "    \n",
    "    return vocab_to_int, int_to_vocab\n",
    "\n",
    "tests.test_create_lookup_tables(create_lookup_tables)"
   ]
  },
  {
   "cell_type": "markdown",
   "metadata": {},
   "source": [
    "### Tokenize Punctuation\n",
    "This will split the script into a word array using spaces as delimiters. However, punctuations like periods and exclamation marks make it hard for the neural network to distinguish between the word \"bye\" and \"bye!\".\n",
    "\n",
    "Implementation of the function `token_lookup` to return a dict that will be used to tokenize symbols like \"!\" into \"||Exclamation_Mark||\". A dictionary for the following symbols where the symbol is the key and value is the token is created:\n",
    "- Period ( . )\n",
    "- Comma ( , )\n",
    "- Quotation Mark ( \" )\n",
    "- Semicolon ( ; )\n",
    "- Exclamation mark ( ! )\n",
    "- Question mark ( ? )\n",
    "- Left Parentheses ( ( )\n",
    "- Right Parentheses ( ) )\n",
    "- Dash ( -- )\n",
    "- Return ( \\n )\n",
    "\n",
    "This dictionary will be used to token the symbols and add the delimiter (space) around it.  This separates the symbols as it's own word, making it easier for the neural network to predict on the next word."
   ]
  },
  {
   "cell_type": "code",
   "execution_count": 4,
   "metadata": {},
   "outputs": [
    {
     "name": "stdout",
     "output_type": "stream",
     "text": [
      "Tests Passed\n"
     ]
    }
   ],
   "source": [
    "def token_lookup():\n",
    "\n",
    "    # key : value\n",
    "    token_lookup = {'.': '||Period||', ',':'||comma||', '\"':'QuotationMark', ';':'Semicolon', '!':'ExclamationMark',\n",
    "                    '?':'QuestionMark', '(':'LeftParentheses', ')':'RightParentheses', '--':'||Dash||', \n",
    "                    '\\n':'||Return||'}\n",
    "    \n",
    "    return token_lookup\n",
    "\n",
    "tests.test_tokenize(token_lookup)"
   ]
  },
  {
   "cell_type": "markdown",
   "metadata": {},
   "source": [
    "## Preprocess all the data and save it"
   ]
  },
  {
   "cell_type": "code",
   "execution_count": 5,
   "metadata": {
    "collapsed": true
   },
   "outputs": [],
   "source": [
    "# Preprocess Training, Validation, and Testing Data\n",
    "helper.preprocess_and_save_data(data_dir, token_lookup, create_lookup_tables)"
   ]
  },
  {
   "cell_type": "markdown",
   "metadata": {},
   "source": [
    "# Check Point\n",
    "First checkpoint."
   ]
  },
  {
   "cell_type": "code",
   "execution_count": 6,
   "metadata": {
    "collapsed": true
   },
   "outputs": [],
   "source": [
    "import helper\n",
    "import numpy as np\n",
    "import problem_unittests as tests\n",
    "\n",
    "int_text, vocab_to_int, int_to_vocab, token_dict = helper.load_preprocess()"
   ]
  },
  {
   "cell_type": "markdown",
   "metadata": {},
   "source": [
    "## Build the Neural Network\n",
    "The following functions are necessary to build the RNN:\n",
    "- get_inputs\n",
    "- get_init_cell\n",
    "- get_embed\n",
    "- build_rnn\n",
    "- build_nn\n",
    "- get_batches\n",
    "\n",
    "### Check the Version of TensorFlow and Access to GPU"
   ]
  },
  {
   "cell_type": "code",
   "execution_count": 8,
   "metadata": {},
   "outputs": [
    {
     "name": "stdout",
     "output_type": "stream",
     "text": [
      "TensorFlow Version: 1.0.0\n",
      "GPU found! Default GPU Device: /gpu:0\n"
     ]
    }
   ],
   "source": [
    "from distutils.version import LooseVersion\n",
    "import warnings\n",
    "import tensorflow as tf\n",
    "\n",
    "# Check TensorFlow Version\n",
    "assert LooseVersion(tf.__version__) >= LooseVersion('1.0'), 'Please use TensorFlow version 1.0 or newer'\n",
    "print('TensorFlow Version: {}'.format(tf.__version__))\n",
    "\n",
    "# Check for a GPU\n",
    "if not tf.test.gpu_device_name():\n",
    "    warnings.warn('No GPU found. Please use a GPU to train your neural network.')\n",
    "else:\n",
    "    print('GPU found! Default GPU Device: {}'.format(tf.test.gpu_device_name()))"
   ]
  },
  {
   "cell_type": "markdown",
   "metadata": {},
   "source": [
    "### Input\n",
    "Implementation of the `get_inputs()` function to create TF Placeholders for the Neural Network.  \n",
    "\n",
    "- Input text placeholder named \"input\" using the [TF Placeholder](https://www.tensorflow.org/api_docs/python/tf/placeholder) `name` parameter.\n",
    "- Targets placeholder\n",
    "- Learning Rate placeholder"
   ]
  },
  {
   "cell_type": "code",
   "execution_count": 9,
   "metadata": {},
   "outputs": [
    {
     "name": "stdout",
     "output_type": "stream",
     "text": [
      "Tests Passed\n"
     ]
    }
   ],
   "source": [
    "def get_inputs():\n",
    "\n",
    "    # Create placeholders\n",
    "    inputs_ = tf.placeholder(tf.int32, [None, None], name='input')\n",
    "    labels_ = tf.placeholder(tf.int32, [None, None], name='labels')\n",
    "    learning_rate = tf.placeholder(tf.float32, name='learning_rate')\n",
    "    return inputs_, labels_, learning_rate\n",
    "\n",
    "tests.test_get_inputs(get_inputs)"
   ]
  },
  {
   "cell_type": "markdown",
   "metadata": {},
   "source": [
    "### Build RNN Cell and Initialize"
   ]
  },
  {
   "cell_type": "code",
   "execution_count": 10,
   "metadata": {},
   "outputs": [
    {
     "name": "stdout",
     "output_type": "stream",
     "text": [
      "Tests Passed\n"
     ]
    }
   ],
   "source": [
    "def get_init_cell(batch_size, rnn_size):\n",
    "\n",
    "    # Set layers number and dropout parameter\n",
    "    num_layers = 2\n",
    "    keep_prob = 0.7\n",
    "\n",
    "    Cell = tf.contrib.rnn.MultiRNNCell([tf.contrib.rnn.BasicLSTMCell(rnn_size) for _ in range(num_layers)])\n",
    "    InitialState = Cell.zero_state(batch_size, tf.float32)\n",
    "    InitialState = tf.identity(InitialState, name='initial_state')\n",
    "\n",
    "    return Cell, InitialState\n",
    "\n",
    "tests.test_get_init_cell(get_init_cell)"
   ]
  },
  {
   "cell_type": "markdown",
   "metadata": {},
   "source": [
    "### Word Embedding\n",
    "Apply embedding to `input_data` using TensorFlow."
   ]
  },
  {
   "cell_type": "code",
   "execution_count": 11,
   "metadata": {},
   "outputs": [
    {
     "name": "stdout",
     "output_type": "stream",
     "text": [
      "Tests Passed\n"
     ]
    }
   ],
   "source": [
    "def get_embed(input_data, vocab_size, embed_dim):\n",
    "\n",
    "    # Get embedding\n",
    "    embedding = tf.Variable(tf.random_uniform((vocab_size, embed_dim),-1,1))\n",
    "    embed = tf.nn.embedding_lookup(embedding, input_data)\n",
    "    \n",
    "    return embed\n",
    "\n",
    "tests.test_get_embed(get_embed)"
   ]
  },
  {
   "cell_type": "markdown",
   "metadata": {},
   "source": [
    "### Build RNN"
   ]
  },
  {
   "cell_type": "code",
   "execution_count": 12,
   "metadata": {},
   "outputs": [
    {
     "name": "stdout",
     "output_type": "stream",
     "text": [
      "Tests Passed\n"
     ]
    }
   ],
   "source": [
    "def build_rnn(cell, inputs):\n",
    "\n",
    "    # Build the dynamic rnn\n",
    "    Outputs, FinalState = tf.nn.dynamic_rnn(cell, inputs, dtype=tf.float32)\n",
    "    FinalState = tf.identity(FinalState, name='final_state')\n",
    "    return Outputs, FinalState\n",
    "\n",
    "tests.test_build_rnn(build_rnn)"
   ]
  },
  {
   "cell_type": "markdown",
   "metadata": {},
   "source": [
    "### Build the Neural Network"
   ]
  },
  {
   "cell_type": "code",
   "execution_count": 13,
   "metadata": {},
   "outputs": [
    {
     "name": "stdout",
     "output_type": "stream",
     "text": [
      "Tests Passed\n"
     ]
    }
   ],
   "source": [
    "def build_nn(cell, rnn_size, input_data, vocab_size, embed_dim):\n",
    "\n",
    "    # RNN pipeline\n",
    "    inputs = get_embed(input_data, vocab_size, embed_dim)\n",
    "    output, FinalState = build_rnn(cell, inputs)\n",
    "    Logits = tf.contrib.layers.fully_connected(output, vocab_size, activation_fn = None)\n",
    "    \n",
    "    return Logits, FinalState\n",
    "\n",
    "tests.test_build_nn(build_nn)"
   ]
  },
  {
   "cell_type": "markdown",
   "metadata": {},
   "source": [
    "### Batches\n",
    "Implement `get_batches` to create batches of input and targets using `int_text`.  The batches should be a Numpy array with the shape `(number of batches, 2, batch size, sequence length)`. Each batch contains two elements:\n",
    "- The first element is a single batch of **input** with the shape `[batch size, sequence length]`\n",
    "- The second element is a single batch of **targets** with the shape `[batch size, sequence length]`\n",
    "\n",
    "If you can't fill the last batch with enough data, drop the last batch.\n",
    "\n",
    "For exmple, `get_batches([1, 2, 3, 4, 5, 6, 7, 8, 9, 10, 11, 12, 13, 14, 15, 16, 17, 18, 19, 20], 3, 2)` would return a Numpy array of the following:\n",
    "```\n",
    "[\n",
    "  # First Batch\n",
    "  [\n",
    "    # Batch of Input\n",
    "    [[ 1  2], [ 7  8], [13 14]]\n",
    "    # Batch of targets\n",
    "    [[ 2  3], [ 8  9], [14 15]]\n",
    "  ]\n",
    "\n",
    "  # Second Batch\n",
    "  [\n",
    "    # Batch of Input\n",
    "    [[ 3  4], [ 9 10], [15 16]]\n",
    "    # Batch of targets\n",
    "    [[ 4  5], [10 11], [16 17]]\n",
    "  ]\n",
    "\n",
    "  # Third Batch\n",
    "  [\n",
    "    # Batch of Input\n",
    "    [[ 5  6], [11 12], [17 18]]\n",
    "    # Batch of targets\n",
    "    [[ 6  7], [12 13], [18  1]]\n",
    "  ]\n",
    "]\n",
    "```\n",
    "\n",
    "Notice that the last target value in the last batch is the first input value of the first batch. In this case, `1`. This is a common technique used when creating sequence batches, although it is rather unintuitive."
   ]
  },
  {
   "cell_type": "code",
   "execution_count": 14,
   "metadata": {},
   "outputs": [
    {
     "name": "stdout",
     "output_type": "stream",
     "text": [
      "[[[[ 1  2]\n",
      "   [ 7  8]\n",
      "   [13 14]]\n",
      "\n",
      "  [[ 2  3]\n",
      "   [ 8  9]\n",
      "   [14 15]]]\n",
      "\n",
      "\n",
      " [[[ 3  4]\n",
      "   [ 9 10]\n",
      "   [15 16]]\n",
      "\n",
      "  [[ 4  5]\n",
      "   [10 11]\n",
      "   [16 17]]]\n",
      "\n",
      "\n",
      " [[[ 5  6]\n",
      "   [11 12]\n",
      "   [17 18]]\n",
      "\n",
      "  [[ 6  7]\n",
      "   [12 13]\n",
      "   [18  1]]]]\n",
      "Tests Passed\n"
     ]
    }
   ],
   "source": [
    "def get_batches(int_text, batch_size, seq_length):\n",
    "\n",
    "    # Get batches pipeline\n",
    "    batch_s = batch_size * seq_length\n",
    "    n_batches = int(len(int_text)/ batch_s)\n",
    "    \n",
    "    input_data = np.array(int_text[:n_batches * batch_s])\n",
    "    targets_data = np.array(int_text[1:n_batches * batch_s + 1])\n",
    "    targets_data[-1] = input_data[0]\n",
    "    \n",
    "    input_batches = np.split(input_data.reshape(batch_size, -1), n_batches, 1)\n",
    "    targets_batches = np.split(targets_data.reshape(batch_size, -1), n_batches, 1)\n",
    "    \n",
    "    return np.array(list(zip(input_batches, targets_batches)))\n",
    "\n",
    "# Check the function\n",
    "print(get_batches([1, 2, 3, 4, 5, 6, 7, 8, 9, 10, 11, 12, 13, 14, 15, 16, 17, 18, 19, 20], 3, 2))\n",
    "tests.test_get_batches(get_batches)"
   ]
  },
  {
   "cell_type": "markdown",
   "metadata": {},
   "source": [
    "## Neural Network Training\n",
    "### Hyperparameters\n",
    "\n",
    "- `num_epochs` - the number of epochs.\n",
    "- `batch_size` - the batch size.\n",
    "- `rnn_size` - the size of the RNNs.\n",
    "- `embed_dim` - the size of the embedding.\n",
    "- `seq_length` - the length of sequence.\n",
    "- `learning_rate` - the learning rate.\n",
    "- `show_every_n_batches` - the number of batches the neural network should print progress."
   ]
  },
  {
   "cell_type": "code",
   "execution_count": 15,
   "metadata": {
    "collapsed": true
   },
   "outputs": [],
   "source": [
    "# Number of Epochs\n",
    "num_epochs = 65\n",
    "# Batch Size\n",
    "batch_size = 256\n",
    "# RNN Size\n",
    "rnn_size = 1024\n",
    "# Embedding Dimension Size\n",
    "embed_dim = 250\n",
    "# Sequence Length\n",
    "seq_length = 10\n",
    "# Learning Rate\n",
    "learning_rate = 0.008\n",
    "# Show stats for every n number of batches\n",
    "show_every_n_batches = 10\n",
    "\n",
    "save_dir = './save'"
   ]
  },
  {
   "cell_type": "markdown",
   "metadata": {},
   "source": [
    "### Build the Graph\n",
    "Build the graph using the implemented neural network."
   ]
  },
  {
   "cell_type": "code",
   "execution_count": 16,
   "metadata": {
    "collapsed": true
   },
   "outputs": [],
   "source": [
    "from tensorflow.contrib import seq2seq\n",
    "\n",
    "train_graph = tf.Graph()\n",
    "with train_graph.as_default():\n",
    "    vocab_size = len(int_to_vocab)\n",
    "    input_text, targets, lr = get_inputs()\n",
    "    input_data_shape = tf.shape(input_text)\n",
    "    cell, initial_state = get_init_cell(input_data_shape[0], rnn_size)\n",
    "    logits, final_state = build_nn(cell, rnn_size, input_text, vocab_size, embed_dim)\n",
    "\n",
    "    # Probabilities for generating words\n",
    "    probs = tf.nn.softmax(logits, name='probs')\n",
    "\n",
    "    # Loss function\n",
    "    cost = seq2seq.sequence_loss(\n",
    "        logits,\n",
    "        targets,\n",
    "        tf.ones([input_data_shape[0], input_data_shape[1]]))\n",
    "\n",
    "    # Optimizer\n",
    "    optimizer = tf.train.AdamOptimizer(lr)\n",
    "\n",
    "    # Gradient Clipping\n",
    "    gradients = optimizer.compute_gradients(cost)\n",
    "    capped_gradients = [(tf.clip_by_value(grad, -1., 1.), var) for grad, var in gradients if grad is not None]\n",
    "    train_op = optimizer.apply_gradients(capped_gradients)"
   ]
  },
  {
   "cell_type": "markdown",
   "metadata": {},
   "source": [
    "## Train\n",
    "Train the neural network on the preprocessed data."
   ]
  },
  {
   "cell_type": "code",
   "execution_count": 17,
   "metadata": {},
   "outputs": [
    {
     "name": "stdout",
     "output_type": "stream",
     "text": [
      "Epoch   0 Batch    0/26   train_loss = 8.822\n",
      "Epoch   0 Batch   10/26   train_loss = 7.474\n",
      "Epoch   0 Batch   20/26   train_loss = 6.543\n",
      "Epoch   1 Batch    4/26   train_loss = 6.061\n",
      "Epoch   1 Batch   14/26   train_loss = 6.044\n",
      "Epoch   1 Batch   24/26   train_loss = 5.836\n",
      "Epoch   2 Batch    8/26   train_loss = 5.703\n",
      "Epoch   2 Batch   18/26   train_loss = 5.601\n",
      "Epoch   3 Batch    2/26   train_loss = 5.514\n",
      "Epoch   3 Batch   12/26   train_loss = 5.375\n",
      "Epoch   3 Batch   22/26   train_loss = 5.256\n",
      "Epoch   4 Batch    6/26   train_loss = 5.331\n",
      "Epoch   4 Batch   16/26   train_loss = 5.094\n",
      "Epoch   5 Batch    0/26   train_loss = 5.147\n",
      "Epoch   5 Batch   10/26   train_loss = 4.944\n",
      "Epoch   5 Batch   20/26   train_loss = 5.067\n",
      "Epoch   6 Batch    4/26   train_loss = 4.938\n",
      "Epoch   6 Batch   14/26   train_loss = 5.047\n",
      "Epoch   6 Batch   24/26   train_loss = 4.920\n",
      "Epoch   7 Batch    8/26   train_loss = 4.911\n",
      "Epoch   7 Batch   18/26   train_loss = 4.822\n",
      "Epoch   8 Batch    2/26   train_loss = 4.740\n",
      "Epoch   8 Batch   12/26   train_loss = 4.702\n",
      "Epoch   8 Batch   22/26   train_loss = 4.616\n",
      "Epoch   9 Batch    6/26   train_loss = 4.650\n",
      "Epoch   9 Batch   16/26   train_loss = 4.528\n",
      "Epoch  10 Batch    0/26   train_loss = 4.526\n",
      "Epoch  10 Batch   10/26   train_loss = 4.387\n",
      "Epoch  10 Batch   20/26   train_loss = 4.402\n",
      "Epoch  11 Batch    4/26   train_loss = 4.360\n",
      "Epoch  11 Batch   14/26   train_loss = 4.469\n",
      "Epoch  11 Batch   24/26   train_loss = 4.318\n",
      "Epoch  12 Batch    8/26   train_loss = 4.267\n",
      "Epoch  12 Batch   18/26   train_loss = 4.200\n",
      "Epoch  13 Batch    2/26   train_loss = 4.237\n",
      "Epoch  13 Batch   12/26   train_loss = 4.207\n",
      "Epoch  13 Batch   22/26   train_loss = 4.089\n",
      "Epoch  14 Batch    6/26   train_loss = 4.116\n",
      "Epoch  14 Batch   16/26   train_loss = 3.877\n",
      "Epoch  15 Batch    0/26   train_loss = 3.966\n",
      "Epoch  15 Batch   10/26   train_loss = 3.808\n",
      "Epoch  15 Batch   20/26   train_loss = 3.825\n",
      "Epoch  16 Batch    4/26   train_loss = 3.828\n",
      "Epoch  16 Batch   14/26   train_loss = 3.800\n",
      "Epoch  16 Batch   24/26   train_loss = 3.762\n",
      "Epoch  17 Batch    8/26   train_loss = 3.688\n",
      "Epoch  17 Batch   18/26   train_loss = 3.617\n",
      "Epoch  18 Batch    2/26   train_loss = 3.624\n",
      "Epoch  18 Batch   12/26   train_loss = 3.637\n",
      "Epoch  18 Batch   22/26   train_loss = 3.546\n",
      "Epoch  19 Batch    6/26   train_loss = 3.506\n",
      "Epoch  19 Batch   16/26   train_loss = 3.395\n",
      "Epoch  20 Batch    0/26   train_loss = 3.333\n",
      "Epoch  20 Batch   10/26   train_loss = 3.298\n",
      "Epoch  20 Batch   20/26   train_loss = 3.251\n",
      "Epoch  21 Batch    4/26   train_loss = 3.305\n",
      "Epoch  21 Batch   14/26   train_loss = 3.247\n",
      "Epoch  21 Batch   24/26   train_loss = 3.201\n",
      "Epoch  22 Batch    8/26   train_loss = 3.047\n",
      "Epoch  22 Batch   18/26   train_loss = 3.008\n",
      "Epoch  23 Batch    2/26   train_loss = 3.037\n",
      "Epoch  23 Batch   12/26   train_loss = 3.024\n",
      "Epoch  23 Batch   22/26   train_loss = 2.980\n",
      "Epoch  24 Batch    6/26   train_loss = 2.928\n",
      "Epoch  24 Batch   16/26   train_loss = 2.869\n",
      "Epoch  25 Batch    0/26   train_loss = 2.751\n",
      "Epoch  25 Batch   10/26   train_loss = 2.659\n",
      "Epoch  25 Batch   20/26   train_loss = 2.648\n",
      "Epoch  26 Batch    4/26   train_loss = 2.743\n",
      "Epoch  26 Batch   14/26   train_loss = 2.518\n",
      "Epoch  26 Batch   24/26   train_loss = 2.570\n",
      "Epoch  27 Batch    8/26   train_loss = 2.527\n",
      "Epoch  27 Batch   18/26   train_loss = 2.445\n",
      "Epoch  28 Batch    2/26   train_loss = 2.471\n",
      "Epoch  28 Batch   12/26   train_loss = 2.377\n",
      "Epoch  28 Batch   22/26   train_loss = 2.426\n",
      "Epoch  29 Batch    6/26   train_loss = 2.442\n",
      "Epoch  29 Batch   16/26   train_loss = 2.274\n",
      "Epoch  30 Batch    0/26   train_loss = 2.149\n",
      "Epoch  30 Batch   10/26   train_loss = 2.206\n",
      "Epoch  30 Batch   20/26   train_loss = 2.116\n",
      "Epoch  31 Batch    4/26   train_loss = 2.314\n",
      "Epoch  31 Batch   14/26   train_loss = 2.064\n",
      "Epoch  31 Batch   24/26   train_loss = 2.138\n",
      "Epoch  32 Batch    8/26   train_loss = 2.124\n",
      "Epoch  32 Batch   18/26   train_loss = 1.956\n",
      "Epoch  33 Batch    2/26   train_loss = 1.939\n",
      "Epoch  33 Batch   12/26   train_loss = 1.907\n",
      "Epoch  33 Batch   22/26   train_loss = 1.854\n",
      "Epoch  34 Batch    6/26   train_loss = 1.839\n",
      "Epoch  34 Batch   16/26   train_loss = 1.754\n",
      "Epoch  35 Batch    0/26   train_loss = 1.587\n",
      "Epoch  35 Batch   10/26   train_loss = 1.665\n",
      "Epoch  35 Batch   20/26   train_loss = 1.568\n",
      "Epoch  36 Batch    4/26   train_loss = 1.728\n",
      "Epoch  36 Batch   14/26   train_loss = 1.515\n",
      "Epoch  36 Batch   24/26   train_loss = 1.569\n",
      "Epoch  37 Batch    8/26   train_loss = 1.585\n",
      "Epoch  37 Batch   18/26   train_loss = 1.434\n",
      "Epoch  38 Batch    2/26   train_loss = 1.425\n",
      "Epoch  38 Batch   12/26   train_loss = 1.417\n",
      "Epoch  38 Batch   22/26   train_loss = 1.389\n",
      "Epoch  39 Batch    6/26   train_loss = 1.384\n",
      "Epoch  39 Batch   16/26   train_loss = 1.283\n",
      "Epoch  40 Batch    0/26   train_loss = 1.177\n",
      "Epoch  40 Batch   10/26   train_loss = 1.227\n",
      "Epoch  40 Batch   20/26   train_loss = 1.175\n",
      "Epoch  41 Batch    4/26   train_loss = 1.323\n",
      "Epoch  41 Batch   14/26   train_loss = 1.089\n",
      "Epoch  41 Batch   24/26   train_loss = 1.145\n",
      "Epoch  42 Batch    8/26   train_loss = 1.183\n",
      "Epoch  42 Batch   18/26   train_loss = 1.039\n",
      "Epoch  43 Batch    2/26   train_loss = 1.055\n",
      "Epoch  43 Batch   12/26   train_loss = 1.052\n",
      "Epoch  43 Batch   22/26   train_loss = 1.042\n",
      "Epoch  44 Batch    6/26   train_loss = 1.045\n",
      "Epoch  44 Batch   16/26   train_loss = 0.931\n",
      "Epoch  45 Batch    0/26   train_loss = 0.889\n",
      "Epoch  45 Batch   10/26   train_loss = 0.978\n",
      "Epoch  45 Batch   20/26   train_loss = 0.852\n",
      "Epoch  46 Batch    4/26   train_loss = 1.054\n",
      "Epoch  46 Batch   14/26   train_loss = 0.881\n",
      "Epoch  46 Batch   24/26   train_loss = 0.851\n",
      "Epoch  47 Batch    8/26   train_loss = 0.966\n",
      "Epoch  47 Batch   18/26   train_loss = 0.846\n",
      "Epoch  48 Batch    2/26   train_loss = 0.857\n",
      "Epoch  48 Batch   12/26   train_loss = 0.836\n",
      "Epoch  48 Batch   22/26   train_loss = 0.837\n",
      "Epoch  49 Batch    6/26   train_loss = 0.878\n",
      "Epoch  49 Batch   16/26   train_loss = 0.741\n",
      "Epoch  50 Batch    0/26   train_loss = 0.734\n",
      "Epoch  50 Batch   10/26   train_loss = 0.789\n",
      "Epoch  50 Batch   20/26   train_loss = 0.731\n",
      "Epoch  51 Batch    4/26   train_loss = 0.844\n",
      "Epoch  51 Batch   14/26   train_loss = 0.723\n",
      "Epoch  51 Batch   24/26   train_loss = 0.697\n",
      "Epoch  52 Batch    8/26   train_loss = 0.739\n",
      "Epoch  52 Batch   18/26   train_loss = 0.669\n",
      "Epoch  53 Batch    2/26   train_loss = 0.631\n",
      "Epoch  53 Batch   12/26   train_loss = 0.637\n",
      "Epoch  53 Batch   22/26   train_loss = 0.608\n",
      "Epoch  54 Batch    6/26   train_loss = 0.607\n",
      "Epoch  54 Batch   16/26   train_loss = 0.529\n",
      "Epoch  55 Batch    0/26   train_loss = 0.483\n",
      "Epoch  55 Batch   10/26   train_loss = 0.517\n",
      "Epoch  55 Batch   20/26   train_loss = 0.502\n",
      "Epoch  56 Batch    4/26   train_loss = 0.550\n",
      "Epoch  56 Batch   14/26   train_loss = 0.491\n",
      "Epoch  56 Batch   24/26   train_loss = 0.466\n",
      "Epoch  57 Batch    8/26   train_loss = 0.499\n",
      "Epoch  57 Batch   18/26   train_loss = 0.468\n",
      "Epoch  58 Batch    2/26   train_loss = 0.456\n",
      "Epoch  58 Batch   12/26   train_loss = 0.480\n",
      "Epoch  58 Batch   22/26   train_loss = 0.459\n",
      "Epoch  59 Batch    6/26   train_loss = 0.472\n",
      "Epoch  59 Batch   16/26   train_loss = 0.431\n",
      "Epoch  60 Batch    0/26   train_loss = 0.402\n",
      "Epoch  60 Batch   10/26   train_loss = 0.432\n",
      "Epoch  60 Batch   20/26   train_loss = 0.429\n",
      "Epoch  61 Batch    4/26   train_loss = 0.481\n",
      "Epoch  61 Batch   14/26   train_loss = 0.426\n",
      "Epoch  61 Batch   24/26   train_loss = 0.412\n",
      "Epoch  62 Batch    8/26   train_loss = 0.447\n",
      "Epoch  62 Batch   18/26   train_loss = 0.409\n",
      "Epoch  63 Batch    2/26   train_loss = 0.413\n",
      "Epoch  63 Batch   12/26   train_loss = 0.430\n",
      "Epoch  63 Batch   22/26   train_loss = 0.407\n",
      "Epoch  64 Batch    6/26   train_loss = 0.419\n",
      "Epoch  64 Batch   16/26   train_loss = 0.386\n",
      "Model Trained and Saved\n"
     ]
    }
   ],
   "source": [
    "batches = get_batches(int_text, batch_size, seq_length)\n",
    "\n",
    "with tf.Session(graph=train_graph) as sess:\n",
    "    sess.run(tf.global_variables_initializer())\n",
    "\n",
    "    for epoch_i in range(num_epochs):\n",
    "        state = sess.run(initial_state, {input_text: batches[0][0]})\n",
    "\n",
    "        for batch_i, (x, y) in enumerate(batches):\n",
    "            feed = {\n",
    "                input_text: x,\n",
    "                targets: y,\n",
    "                initial_state: state,\n",
    "                lr: learning_rate}\n",
    "            train_loss, state, _ = sess.run([cost, final_state, train_op], feed)\n",
    "\n",
    "            # Show every <show_every_n_batches> batches\n",
    "            if (epoch_i * len(batches) + batch_i) % show_every_n_batches == 0:\n",
    "                print('Epoch {:>3} Batch {:>4}/{}   train_loss = {:.3f}'.format(\n",
    "                    epoch_i,\n",
    "                    batch_i,\n",
    "                    len(batches),\n",
    "                    train_loss))\n",
    "\n",
    "    # Save Model\n",
    "    saver = tf.train.Saver()\n",
    "    saver.save(sess, save_dir)\n",
    "    print('Model Trained and Saved')"
   ]
  },
  {
   "cell_type": "markdown",
   "metadata": {},
   "source": [
    "## Save Parameters\n",
    "Save `seq_length` and `save_dir` for generating a new TV script."
   ]
  },
  {
   "cell_type": "code",
   "execution_count": 18,
   "metadata": {
    "collapsed": true
   },
   "outputs": [],
   "source": [
    "# Save parameters for checkpoint\n",
    "helper.save_params((seq_length, save_dir))"
   ]
  },
  {
   "cell_type": "markdown",
   "metadata": {},
   "source": [
    "# Checkpoint"
   ]
  },
  {
   "cell_type": "code",
   "execution_count": 19,
   "metadata": {
    "collapsed": true
   },
   "outputs": [],
   "source": [
    "import tensorflow as tf\n",
    "import numpy as np\n",
    "import helper\n",
    "import problem_unittests as tests\n",
    "\n",
    "_, vocab_to_int, int_to_vocab, token_dict = helper.load_preprocess()\n",
    "seq_length, load_dir = helper.load_params()"
   ]
  },
  {
   "cell_type": "markdown",
   "metadata": {},
   "source": [
    "## Implement Generate Functions\n",
    "### Get Tensors\n",
    "Get tensors from `loaded_graph` using the function [`get_tensor_by_name()`](https://www.tensorflow.org/api_docs/python/tf/Graph#get_tensor_by_name).  Get the tensors using the following names:\n",
    "- \"input:0\"\n",
    "- \"initial_state:0\"\n",
    "- \"final_state:0\"\n",
    "- \"probs:0\""
   ]
  },
  {
   "cell_type": "code",
   "execution_count": 20,
   "metadata": {},
   "outputs": [
    {
     "name": "stdout",
     "output_type": "stream",
     "text": [
      "Tests Passed\n"
     ]
    }
   ],
   "source": [
    "def get_tensors(loaded_graph):\n",
    "\n",
    "    # Get tensors functions\n",
    "    InputTensor = loaded_graph.get_tensor_by_name(\"input:0\")\n",
    "    InitialStateTensor = loaded_graph.get_tensor_by_name(\"initial_state:0\")\n",
    "    FinalStateTensor = loaded_graph.get_tensor_by_name(\"final_state:0\")\n",
    "    ProbsTensor = loaded_graph.get_tensor_by_name(\"probs:0\")\n",
    "    \n",
    "    return InputTensor, InitialStateTensor, FinalStateTensor, ProbsTensor\n",
    "\n",
    "tests.test_get_tensors(get_tensors)"
   ]
  },
  {
   "cell_type": "markdown",
   "metadata": {},
   "source": [
    "### Choose Word\n",
    "Implementation of the `pick_word()` function to select the next word using `probabilities`."
   ]
  },
  {
   "cell_type": "code",
   "execution_count": 21,
   "metadata": {},
   "outputs": [
    {
     "name": "stdout",
     "output_type": "stream",
     "text": [
      "Tests Passed\n"
     ]
    }
   ],
   "source": [
    "def pick_word(probabilities, int_to_vocab):\n",
    "\n",
    "    # Get the probability for next word selection\n",
    "    prob = np.random.choice(list(int_to_vocab.values()), 1, p=probabilities)[0]\n",
    "    \n",
    "    return prob\n",
    "\n",
    "tests.test_pick_word(pick_word)"
   ]
  },
  {
   "cell_type": "markdown",
   "metadata": {},
   "source": [
    "## Generate TV Script\n",
    "This will generate the TV script.  Set `gen_length` to the length of TV script you want to generate."
   ]
  },
  {
   "cell_type": "code",
   "execution_count": 23,
   "metadata": {},
   "outputs": [
    {
     "name": "stdout",
     "output_type": "stream",
     "text": [
      "barney_gumble:(in moe's face) lord palmerston!\n",
      "\n",
      "\n",
      "moe_szyslak: i feel so about what?(then, homer) i forgot to endorse this loser. they're bashir with one thing are you, have how i no with some song you said everything(laughs) i was the thing to get my au gay drive here to drive the cleveland tavern.\n",
      "lenny_leonard: what you are not one of your monkeyshines.\n",
      "lenny_leonard: that's the foibles to have to moe.\n",
      "homer_simpson:(low, on glass) when the crony.\n",
      "homer_simpson: i can't close?\n",
      "homer_simpson: now about it.\n",
      "moe_szyslak: good good who, i'll get renovatin'.\n",
      "bart_simpson: how 7-year-old_brockman: they a beer!\n",
      "moe_szyslak:(calling something) you're the phone) can i just said that you're good.\n",
      "moe_szyslak: it was far the money, i'll check...\n",
      "moe_szyslak: well moe.(low, to the super) i want you to say to you!\n",
      "lisa_simpson: that comes to go! i'm supposed on a shotgun.\n",
      "moe_szyslak: hey, can i look like that.\n",
      "homer_simpson: so you said you're in the best musical girls?\n",
      "homer_simpson:(flailing) dr. sure, two... this is what i get a brilliant arm, do you?\n",
      "lenny_leonard: another to workers just being still i do why my statue helping?\n",
      "lenny_leonard: so there's a sign. she maybe two as homer?\n",
      "carl_carlson: hey, i don't look up.\n",
      "moe_szyslak: nobody don't got this. you've thought you didn't abandon you.\n",
      "homer_simpson:(giving chuckle) make me hate good for a. m.\n",
      "duffman: so you're as a job?\n",
      "moe_szyslak: i got this. and do you get pants?\n",
      "moe_szyslak: fun's the trench pick in the wrong woman whoo me. the hell. i had a man with me.\n",
      "moe_szyslak:(excited) feels hair...\n",
      "homer_simpson:(horrified sign) or i'm gonna let me happen to date.\n",
      "marge_simpson: and give-- we're not things what you ordered, go. and i said i do?\n",
      "barney_gumble:(to self) is it to. / if you'll do it?\n",
      "moe_szyslak:(to homer) marge sure, the sign is al, you'll survive out with a metal glass.\n",
      "moe_szyslak: there's a per wife from moe's.(nervous voice) eh, good god, all right, but then we gotta get out of the thing but i always want.(snaps fingers) yeah.(sips) before...\n",
      "homer_simpson:-- well i got the best musical around a good / bad of--\n",
      "homer_simpson:\n"
     ]
    }
   ],
   "source": [
    "gen_length = 500\n",
    "\n",
    "# Choose a character by setting the prime word \n",
    "# Characters: homer_simpson, moe_szyslak, or barney_gumble\n",
    "prime_word = 'barney_gumble'\n",
    "\n",
    "loaded_graph = tf.Graph()\n",
    "with tf.Session(graph=loaded_graph) as sess:\n",
    "    # Load saved model\n",
    "    loader = tf.train.import_meta_graph(load_dir + '.meta')\n",
    "    loader.restore(sess, load_dir)\n",
    "\n",
    "    # Get Tensors from loaded model\n",
    "    input_text, initial_state, final_state, probs = get_tensors(loaded_graph)\n",
    "\n",
    "    # Sentences generation setup\n",
    "    gen_sentences = [prime_word + ':']\n",
    "    prev_state = sess.run(initial_state, {input_text: np.array([[1]])})\n",
    "\n",
    "    # Generate sentences\n",
    "    for n in range(gen_length):\n",
    "        # Dynamic Input\n",
    "        dyn_input = [[vocab_to_int[word] for word in gen_sentences[-seq_length:]]]\n",
    "        dyn_seq_length = len(dyn_input[0])\n",
    "\n",
    "        # Get Prediction\n",
    "        probabilities, prev_state = sess.run(\n",
    "            [probs, final_state],\n",
    "            {input_text: dyn_input, initial_state: prev_state})\n",
    "        \n",
    "        pred_word = pick_word(probabilities[dyn_seq_length-1], int_to_vocab)\n",
    "\n",
    "        gen_sentences.append(pred_word)\n",
    "    \n",
    "    # Remove tokens\n",
    "    tv_script = ' '.join(gen_sentences)\n",
    "    for key, token in token_dict.items():\n",
    "        ending = ' ' if key in ['\\n', '(', '\"'] else ''\n",
    "        tv_script = tv_script.replace(' ' + token.lower(), key)\n",
    "    tv_script = tv_script.replace('\\n ', '\\n')\n",
    "    tv_script = tv_script.replace('( ', '(')\n",
    "        \n",
    "    print(tv_script)"
   ]
  },
  {
   "cell_type": "markdown",
   "metadata": {},
   "source": [
    "## Discussion: The TV Script is Nonsensical\n",
    "It's ok if the TV script doesn't make any sense.  We trained on less than a megabyte of text.  In order to get good results, you'll have to use a smaller vocabulary or get more data.  Luckly there's more data!  As we mentioned in the begging of this project, this is a subset of [another dataset](https://www.kaggle.com/wcukierski/the-simpsons-by-the-data).  We didn't have you train on all the data, because that would take too long.  However, you are free to train your neural network on all the data.  After you complete the project, of course.\n",
    "## Submitting This Project\n",
    "When submitting this project, make sure to run all the cells before saving the notebook. Save the notebook file as \"dlnd_tv_script_generation.ipynb\" and save it as a HTML file under \"File\" -> \"Download as\". Include the \"helper.py\" and \"problem_unittests.py\" files in your submission."
   ]
  }
 ],
 "metadata": {
  "kernelspec": {
   "display_name": "Python 3",
   "language": "python",
   "name": "python3"
  },
  "language_info": {
   "codemirror_mode": {
    "name": "ipython",
    "version": 3
   },
   "file_extension": ".py",
   "mimetype": "text/x-python",
   "name": "python",
   "nbconvert_exporter": "python",
   "pygments_lexer": "ipython3",
   "version": "3.5.3"
  },
  "widgets": {
   "state": {},
   "version": "1.1.2"
  }
 },
 "nbformat": 4,
 "nbformat_minor": 1
}
